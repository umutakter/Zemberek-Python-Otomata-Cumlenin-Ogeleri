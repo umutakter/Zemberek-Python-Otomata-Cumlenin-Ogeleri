{
 "cells": [
  {
   "cell_type": "code",
   "execution_count": 13,
   "metadata": {},
   "outputs": [],
   "source": [
    "#pip install snowballstemmer\n",
    "#pip install jpype1\n",
    "#pip install zemberek-python\n",
    "#pip install automata-lib"
   ]
  },
  {
   "cell_type": "code",
   "execution_count": 14,
   "metadata": {},
   "outputs": [],
   "source": [
    "import numpy as np\n",
    "import pandas as pd\n",
    "\n",
    "import os\n",
    "for dirname, _, filenames in os.walk('/kaggle/input'):\n",
    "    for filename in filenames:\n",
    "        print(os.path.join(dirname, filename))\n",
    "        \n",
    "from zemberek_python.main_libs import nltk_download, ZemberekTool\n",
    "from kefir.predication import personal, inferential\n",
    "from kefir.subject import Person\n",
    "from nltk.tokenize import sent_tokenize, word_tokenize\n",
    "import nltk\n",
    "#nltk.download('punkt')\n",
    "#nltk.download('stopwords')"
   ]
  },
  {
   "cell_type": "code",
   "execution_count": 15,
   "metadata": {},
   "outputs": [],
   "source": [
    "from zemberek import (\n",
    "    TurkishSpellChecker,\n",
    "    TurkishSentenceNormalizer,\n",
    "    TurkishSentenceExtractor,\n",
    "    TurkishMorphology,\n",
    "    TurkishTokenizer\n",
    ")"
   ]
  },
  {
   "cell_type": "code",
   "execution_count": 16,
   "metadata": {},
   "outputs": [
    {
     "name": "stdout",
     "output_type": "stream",
     "text": [
      "2021-01-18 15:35:32,808 - zemberek.morphology.turkish_morphology - INFO\n",
      "Msg: TurkishMorphology instance initialized in 35.77569222450256\n",
      "\n"
     ]
    }
   ],
   "source": [
    "morphology = TurkishMorphology.create_with_defaults()\n",
    "normalizer = TurkishSentenceNormalizer(morphology)"
   ]
  },
  {
   "cell_type": "markdown",
   "metadata": {},
   "source": [
    "### Örnek bir cümle alıp üzerinde işlemlerimizi gerçekleştirelim."
   ]
  },
  {
   "cell_type": "code",
   "execution_count": 20,
   "metadata": {},
   "outputs": [],
   "source": [
    "text=\"ali okula gitti\""
   ]
  },
  {
   "cell_type": "markdown",
   "metadata": {},
   "source": [
    "### Tokenleştirme işlemini gerçekleştirelim."
   ]
  },
  {
   "cell_type": "code",
   "execution_count": 17,
   "metadata": {},
   "outputs": [],
   "source": [
    "zemberekTool = ZemberekTool()"
   ]
  },
  {
   "cell_type": "code",
   "execution_count": 18,
   "metadata": {},
   "outputs": [
    {
     "data": {
      "text/plain": [
       "{'icerik': 'arabayla',\n",
       " 'kok': 'araba',\n",
       " 'tip': 'ISIM',\n",
       " 'ekler': 'ISIM_KOK + ISIM_BIRLIKTELIK_LE'}"
      ]
     },
     "execution_count": 18,
     "metadata": {},
     "output_type": "execute_result"
    }
   ],
   "source": [
    "zemberekTool.ogelere_ayir(\"arabayla\")"
   ]
  },
  {
   "cell_type": "code",
   "execution_count": 21,
   "metadata": {},
   "outputs": [
    {
     "data": {
      "text/plain": [
       "['ali', 'okula', 'gitti']"
      ]
     },
     "execution_count": 21,
     "metadata": {},
     "output_type": "execute_result"
    }
   ],
   "source": [
    "wordTokenize = word_tokenize(text)\n",
    "wordTokenize"
   ]
  },
  {
   "cell_type": "markdown",
   "metadata": {},
   "source": [
    "### Cümledeki kelimelerin ögelerini 'oge_bulucu' fonksiyonu yardımıyla öğrenelim"
   ]
  },
  {
   "cell_type": "code",
   "execution_count": 27,
   "metadata": {},
   "outputs": [
    {
     "data": {
      "text/plain": [
       "['a', '.', 'a', 'e', '.', 'c', 'h', '.']"
      ]
     },
     "execution_count": 27,
     "metadata": {},
     "output_type": "execute_result"
    }
   ],
   "source": [
    "oge_list = []\n",
    "for word in wordTokenize:\n",
    "    oge_bulucu(word)\n",
    "oge_list"
   ]
  },
  {
   "cell_type": "markdown",
   "metadata": {},
   "source": [
    "### Cümlenin kök ve ek bilgilerini otomatanın anlayacağı alfabeye dönüştürelim"
   ]
  },
  {
   "cell_type": "code",
   "execution_count": 25,
   "metadata": {},
   "outputs": [
    {
     "name": "stdout",
     "output_type": "stream",
     "text": [
      "[]   a\n",
      "['a']   \n",
      "['a']   a\n",
      "['a']   ae\n",
      "['a', 'ae']   \n",
      "['a', 'ae']   c\n",
      "['a', 'ae']   ch\n",
      "['a', 'ae', 'ch']   \n"
     ]
    },
    {
     "data": {
      "text/plain": [
       "['a', 'ae', 'ch']"
      ]
     },
     "execution_count": 25,
     "metadata": {},
     "output_type": "execute_result"
    }
   ],
   "source": [
    "ogeler =[]\n",
    "ogeler2=\"\"\n",
    "for oge in oge_list:\n",
    "    if oge == \".\":\n",
    "        ogeler.append(ogeler2)\n",
    "        ogeler2=\"\"\n",
    "    else:\n",
    "        ogeler2=ogeler2+oge\n",
    "    print(ogeler,\" \",ogeler2)\n",
    "ogeler"
   ]
  },
  {
   "cell_type": "markdown",
   "metadata": {},
   "source": [
    "### Cümlenin ögelerini sonlu durum otomatası yardımıyla bulalım"
   ]
  },
  {
   "cell_type": "code",
   "execution_count": 30,
   "metadata": {},
   "outputs": [
    {
     "name": "stdout",
     "output_type": "stream",
     "text": [
      "{'q_ozne'}\n",
      "{'q_tumlec'}\n",
      "{'q_yuklem'}\n",
      "['a', '.', 'a', 'e', '.', 'c', 'h', '.'] ['ali', 'okula', 'gitti']\n"
     ]
    }
   ],
   "source": [
    "for i in ogeler:\n",
    "    print(nfa.read_input(i))\n",
    "print(oge_list,wordTokenize)"
   ]
  },
  {
   "cell_type": "markdown",
   "metadata": {},
   "source": [
    "### Otomata diyagramı"
   ]
  },
  {
   "cell_type": "markdown",
   "metadata": {},
   "source": [
    "<img src=\"otomata_diyagram.jpg\">"
   ]
  },
  {
   "cell_type": "markdown",
   "metadata": {},
   "source": [
    "### Tasarladığımız sonlu durum otomatası"
   ]
  },
  {
   "cell_type": "code",
   "execution_count": 8,
   "metadata": {},
   "outputs": [],
   "source": [
    "dolaylı_tumlec_ekleri = [\"ISIM_CIKMA_DEN\",\"ISIM_KALMA_DE\",\"ISIM_CIKMA_DE\",\"ISIM_YONELME_E\"]\n",
    "from automata.fa.nfa import NFA\n",
    "# NFA which matches strings beginning with 'a', ending with 'a', and containing\n",
    "# no consecutive 'b's\n",
    "nfa = NFA(\n",
    "    states={'q_baslangic', 'q_ozne', 'q_zarf', 'q_yuklem', 'q_nesne', 'q_tumlec', 'q_edat'},\n",
    "    input_symbols={'a', 'b', 'c', 'd' , 'e', 'f' ,'h'},\n",
    "    transitions={\n",
    "        'q_baslangic': {'a': {'q_ozne'}, 'b': {'q_zarf'}, 'c': {'q_yuklem'}},\n",
    "        # Use '' as the key name for empty string (lambda/epsilon) transitions\n",
    "        'q_ozne': {'d': {'q_nesne'}, 'e': {'q_tumlec'},'f': {'q_edat'}, 'h': {'q_ozne'}},\n",
    "        'q_nesne': {'h': {'q_nesne'}},\n",
    "        'q_tumlec': {'h': {'q_tumlec'}},\n",
    "        'q_edat': {'h': {'q_edat'}},      \n",
    "        'q_zarf': {'h': {'q_zarf'}},\n",
    "        'q_yuklem': {'h': {'q_yuklem'}}\n",
    "\n",
    "    },\n",
    "    initial_state='q_baslangic',\n",
    "    final_states={'q_ozne', 'q_zarf', 'q_yuklem', 'q_nesne', 'q_tumlec', 'q_edat'}\n",
    ")"
   ]
  },
  {
   "cell_type": "markdown",
   "metadata": {},
   "source": [
    "### Kelimelerin kök ve eklerinin türlerini bularak otomatanın alfabesine çeviren fonksiyon"
   ]
  },
  {
   "cell_type": "code",
   "execution_count": 9,
   "metadata": {},
   "outputs": [],
   "source": [
    "oge_list = []\n",
    "def oge_bulucu(word):\n",
    "    if zemberekTool.ogelere_ayir(word) is None:\n",
    "            oge_list.append(\"a\")\n",
    "            oge_list.append(\".\")\n",
    "    else:         \n",
    "        for ek_turu in zemberekTool.ogelere_ayir(word)[\"ekler\"].replace(\" \",\"\").split(\"+\"):\n",
    "\n",
    "            if 'ISIM_KOK' == ek_turu:\n",
    "                oge_list.append(\"a\")\n",
    "            elif 'ZAMAN_KOK' == ek_turu:\n",
    "                oge_list.append(\"b\")\n",
    "            elif 'FIIL_KOK' == ek_turu:\n",
    "                oge_list.append(\"c\")\n",
    "            elif 'ISIM_BELIRTME_I' == ek_turu or \"ISIM_TAMLAMA_I\" == ek_turu:\n",
    "                oge_list.append(\"d\")\n",
    "            elif ek_turu in dolaylı_tumlec_ekleri:\n",
    "                oge_list.append(\"e\")\n",
    "            elif 'ISIM_BIRLIKTELIK_LE' in zemberekTool.ogelere_ayir(word)[\"ekler\"].replace(\" \",\"\").split(\"+\"):\n",
    "                oge_list.append(\"f\")   \n",
    "\n",
    "            else:\n",
    "                oge_list.append(\"h\")\n",
    "            #[oge_list.append(\"e\") if ek in dolaylı_tumlec_ekleri else oge_list.append(\"h\") for ek in zemberekTool.ogelere_ayir(word)[\"ekler\"].replace(\" \",\"\").split(\"+\")]\n",
    "        oge_list.append(\".\")"
   ]
  }
 ],
 "metadata": {
  "kernelspec": {
   "display_name": "Python 3",
   "language": "python",
   "name": "python3"
  },
  "language_info": {
   "codemirror_mode": {
    "name": "ipython",
    "version": 3
   },
   "file_extension": ".py",
   "mimetype": "text/x-python",
   "name": "python",
   "nbconvert_exporter": "python",
   "pygments_lexer": "ipython3",
   "version": "3.7.9"
  }
 },
 "nbformat": 4,
 "nbformat_minor": 4
}
