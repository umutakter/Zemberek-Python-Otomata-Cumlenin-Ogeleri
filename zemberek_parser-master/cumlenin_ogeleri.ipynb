{
 "cells": [
  {
   "cell_type": "code",
   "execution_count": 14,
   "metadata": {},
   "outputs": [],
   "source": [
    "import numpy as np\n",
    "import pandas as pd\n",
    "import os\n",
    "for dirname, _, filenames in os.walk('/kaggle/input'):\n",
    "    for filename in filenames:\n",
    "        print(os.path.join(dirname, filename))\n",
    "        \n",
    "from zemberek_python.main_libs import nltk_download, ZemberekTool\n",
    "from kefir.predication import personal, inferential\n",
    "from kefir.subject import Person\n",
    "from nltk.tokenize import sent_tokenize, word_tokenize\n",
    "import nltk\n",
    "from zemberek import (\n",
    "    TurkishSpellChecker,\n",
    "    TurkishSentenceNormalizer,\n",
    "    TurkishSentenceExtractor,\n",
    "    TurkishMorphology,\n",
    "    TurkishTokenizer\n",
    ")"
   ]
  },
  {
   "cell_type": "code",
   "execution_count": 15,
   "metadata": {},
   "outputs": [
    {
     "name": "stdout",
     "output_type": "stream",
     "text": [
      "2021-01-18 15:28:24,074 - zemberek.morphology.turkish_morphology - INFO\n",
      "Msg: TurkishMorphology instance initialized in 13.496797800064087\n",
      "\n"
     ]
    }
   ],
   "source": [
    "morphology = TurkishMorphology.create_with_defaults()\n",
    "normalizer = TurkishSentenceNormalizer(morphology)"
   ]
  },
  {
   "cell_type": "code",
   "execution_count": 16,
   "metadata": {},
   "outputs": [],
   "source": [
    "zemberekTool = ZemberekTool()"
   ]
  },
  {
   "cell_type": "code",
   "execution_count": 17,
   "metadata": {},
   "outputs": [],
   "source": [
    "dolaylı_tumlec_ekleri = [\"ISIM_CIKMA_DEN\",\"ISIM_KALMA_DE\",\"ISIM_CIKMA_DE\",\"ISIM_YONELME_E\"]"
   ]
  },
  {
   "cell_type": "markdown",
   "metadata": {},
   "source": [
    "### Cumlenin ögelerini bulmamıza yardımcı olacak sonlu durum otamatasını tasarlayalım."
   ]
  },
  {
   "cell_type": "code",
   "execution_count": 10,
   "metadata": {},
   "outputs": [],
   "source": [
    "from automata.fa.nfa import NFA\n",
    "nfa = NFA(\n",
    "    states={'q_baslangic', 'q_ozne', 'q_zarf', 'q_yuklem', 'q_nesne', 'q_tumlec', 'q_edat'},\n",
    "    input_symbols={'a', 'b', 'c', 'd' , 'e', 'f' ,'h'},\n",
    "    transitions={\n",
    "        'q_baslangic': {'a': {'q_ozne'}, 'b': {'q_zarf'}, 'c': {'q_yuklem'}},\n",
    "        'q_ozne': {'d': {'q_nesne'}, 'e': {'q_tumlec'},'f': {'q_edat'}, 'h': {'q_ozne'}},\n",
    "        'q_nesne': {'h': {'q_nesne'}},\n",
    "        'q_tumlec': {'h': {'q_tumlec'}},\n",
    "        'q_edat': {'h': {'q_edat'}},      \n",
    "        'q_zarf': {'h': {'q_zarf'}},\n",
    "        'q_yuklem': {'h': {'q_yuklem'}}\n",
    "    },\n",
    "    initial_state='q_baslangic',\n",
    "    final_states={'q_ozne', 'q_zarf', 'q_yuklem', 'q_nesne', 'q_tumlec', 'q_edat'}\n",
    ")"
   ]
  },
  {
   "cell_type": "markdown",
   "metadata": {},
   "source": [
    "### Kelimelerin kök ve eklerinin türlerini bularak otomatanın alfabesine çeviren fonksiyon"
   ]
  },
  {
   "cell_type": "code",
   "execution_count": 11,
   "metadata": {},
   "outputs": [],
   "source": [
    "oge_list = []\n",
    "def oge_bulucu(word):\n",
    "    if zemberekTool.ogelere_ayir(word) is None:\n",
    "            oge_list.append(\"a\")\n",
    "            oge_list.append(\".\")\n",
    "    else:         \n",
    "        for ek_turu in zemberekTool.ogelere_ayir(word)[\"ekler\"].replace(\" \",\"\").split(\"+\"):\n",
    "\n",
    "            if 'ISIM_KOK' == ek_turu:\n",
    "                oge_list.append(\"a\")\n",
    "            elif 'ZAMAN_KOK' == ek_turu:\n",
    "                oge_list.append(\"b\")\n",
    "            elif 'FIIL_KOK' == ek_turu:\n",
    "                oge_list.append(\"c\")\n",
    "            elif 'ISIM_BELIRTME_I' == ek_turu or \"ISIM_TAMLAMA_I\" == ek_turu:\n",
    "                oge_list.append(\"d\")\n",
    "            elif ek_turu in dolaylı_tumlec_ekleri:\n",
    "                oge_list.append(\"e\")\n",
    "            elif 'ISIM_BIRLIKTELIK_LE' in zemberekTool.ogelere_ayir(word)[\"ekler\"].replace(\" \",\"\").split(\"+\"):\n",
    "                oge_list.append(\"f\")   \n",
    "\n",
    "            else:\n",
    "                oge_list.append(\"h\")\n",
    "            #[oge_list.append(\"e\") if ek in dolaylı_tumlec_ekleri else oge_list.append(\"h\") for ek in zemberekTool.ogelere_ayir(word)[\"ekler\"].replace(\" \",\"\").split(\"+\")]\n",
    "        oge_list.append(\".\")"
   ]
  },
  {
   "cell_type": "markdown",
   "metadata": {},
   "source": [
    "### Son olarak cümlenin ögelerini bulmamızı sağlayan fonksiyon."
   ]
  },
  {
   "cell_type": "code",
   "execution_count": 12,
   "metadata": {},
   "outputs": [],
   "source": [
    "def cumlenin_ogeleri(text):\n",
    "    normalize_text = normalizer.normalize(text)\n",
    "    wordTokenize = word_tokenize(normalize_text)\n",
    "\n",
    "    for word in wordTokenize:\n",
    "        oge_bulucu(word)\n",
    "    ogeler =[]\n",
    "    ogeler2=\"\"\n",
    "    for oge in oge_list:\n",
    "        if oge == \".\":\n",
    "            ogeler.append(ogeler2)\n",
    "            ogeler2=\"\"\n",
    "        else:\n",
    "            ogeler2=ogeler2+oge\n",
    "        print(ogeler,\" \",ogeler2)\n",
    "    print(\"--------------------------\")\n",
    "    for i in ogeler:\n",
    "        print(nfa.read_input(i))\n",
    "    print(\"--------------------------\")\n",
    "    print(oge_list,wordTokenize)"
   ]
  },
  {
   "cell_type": "markdown",
   "metadata": {},
   "source": [
    "### Örnek cümlelerde test aşaması"
   ]
  },
  {
   "cell_type": "code",
   "execution_count": 18,
   "metadata": {},
   "outputs": [
    {
     "name": "stdout",
     "output_type": "stream",
     "text": [
      "[]   a\n",
      "[]   ah\n",
      "['ah']   \n",
      "['ah']   b\n",
      "['ah', 'b']   \n",
      "['ah', 'b']   a\n",
      "['ah', 'b']   ae\n",
      "['ah', 'b', 'ae']   \n",
      "['ah', 'b', 'ae']   c\n",
      "['ah', 'b', 'ae']   ch\n",
      "['ah', 'b', 'ae', 'ch']   \n",
      "--------------------------\n",
      "{'q_ozne'}\n",
      "{'q_zarf'}\n",
      "{'q_tumlec'}\n",
      "{'q_yuklem'}\n",
      "--------------------------\n",
      "['a', 'h', '.', 'b', '.', 'a', 'e', '.', 'c', 'h', '.'] ['babam', 'dün', 'yemeğe', 'gitti']\n"
     ]
    }
   ],
   "source": [
    "oge_list = []\n",
    "cumlenin_ogeleri(\"babam dün yemeğe gitti\")"
   ]
  },
  {
   "cell_type": "code",
   "execution_count": 22,
   "metadata": {},
   "outputs": [
    {
     "name": "stdout",
     "output_type": "stream",
     "text": [
      "[]   a\n",
      "['a']   \n",
      "['a']   a\n",
      "['a', 'a']   \n",
      "['a', 'a']   c\n",
      "['a', 'a']   ch\n",
      "['a', 'a']   chh\n",
      "['a', 'a', 'chh']   \n",
      "--------------------------\n",
      "{'q_ozne'}\n",
      "{'q_ozne'}\n",
      "{'q_yuklem'}\n",
      "--------------------------\n",
      "['a', '.', 'a', '.', 'c', 'h', 'h', '.'] ['mehmet', 'okul', 'sevmiyor']\n"
     ]
    }
   ],
   "source": [
    "oge_list = []\n",
    "cumlenin_ogeleri(\"mehmet okulu sevmiyor\")"
   ]
  },
  {
   "cell_type": "code",
   "execution_count": 23,
   "metadata": {},
   "outputs": [
    {
     "name": "stdout",
     "output_type": "stream",
     "text": [
      "[]   a\n",
      "['a']   \n",
      "['a']   a\n",
      "['a']   ae\n",
      "['a', 'ae']   \n",
      "['a', 'ae']   a\n",
      "['a', 'ae']   af\n",
      "['a', 'ae', 'af']   \n",
      "['a', 'ae', 'af']   c\n",
      "['a', 'ae', 'af']   ch\n",
      "['a', 'ae', 'af', 'ch']   \n",
      "--------------------------\n",
      "{'q_ozne'}\n",
      "{'q_tumlec'}\n",
      "{'q_edat'}\n",
      "{'q_yuklem'}\n",
      "--------------------------\n",
      "['a', '.', 'a', 'e', '.', 'a', 'f', '.', 'c', 'h', '.'] ['ahmet', 'okula', 'arabayla', 'gitti']\n"
     ]
    }
   ],
   "source": [
    "oge_list = []\n",
    "cumlenin_ogeleri(\"ahmet okula arabayla gitti\")"
   ]
  },
  {
   "cell_type": "code",
   "execution_count": 24,
   "metadata": {},
   "outputs": [
    {
     "name": "stdout",
     "output_type": "stream",
     "text": [
      "[]   a\n",
      "['a']   \n",
      "['a']   a\n",
      "['a']   ad\n",
      "['a', 'ad']   \n",
      "['a', 'ad']   a\n",
      "['a', 'ad']   af\n",
      "['a', 'ad', 'af']   \n",
      "['a', 'ad', 'af']   c\n",
      "['a', 'ad', 'af', 'c']   \n",
      "--------------------------\n",
      "{'q_ozne'}\n",
      "{'q_nesne'}\n",
      "{'q_edat'}\n",
      "{'q_yuklem'}\n",
      "--------------------------\n",
      "['a', '.', 'a', 'd', '.', 'a', 'f', '.', 'c', '.'] ['halil', 'yemeği', 'çatalla', 'yer']\n"
     ]
    }
   ],
   "source": [
    "oge_list = []\n",
    "cumlenin_ogeleri(\"halil yemeği çatalla yer\")"
   ]
  },
  {
   "cell_type": "code",
   "execution_count": null,
   "metadata": {},
   "outputs": [],
   "source": []
  }
 ],
 "metadata": {
  "kernelspec": {
   "display_name": "Python 3",
   "language": "python",
   "name": "python3"
  },
  "language_info": {
   "codemirror_mode": {
    "name": "ipython",
    "version": 3
   },
   "file_extension": ".py",
   "mimetype": "text/x-python",
   "name": "python",
   "nbconvert_exporter": "python",
   "pygments_lexer": "ipython3",
   "version": "3.7.9"
  }
 },
 "nbformat": 4,
 "nbformat_minor": 4
}
